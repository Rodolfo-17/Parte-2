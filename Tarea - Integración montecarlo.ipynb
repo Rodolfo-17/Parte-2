{
 "cells": [
  {
   "cell_type": "markdown",
   "metadata": {},
   "source": [
    "# TAREA"
   ]
  },
  {
   "cell_type": "markdown",
   "metadata": {},
   "source": [
    "## Integración Montecarlo"
   ]
  },
  {
   "cell_type": "markdown",
   "metadata": {},
   "source": [
    "1. Realizar las siguientes integrales. Poner los resultados en una tabla cuyas filas correspondan a la cantidad de términos utilizados en la aproximación (usar 10, 100, 1000, 10000 y 100000 términos) y cuyas columnas correspondan a las funciones.\n",
    "    + $\\int_{1}^{3} e^{x}\\log(x)\\text{d}x$.\n",
    "    + $\\int_1^3 \\sin(x)\\ln(x) \\text{d}x$"
   ]
  },
  {
   "cell_type": "code",
   "execution_count": null,
   "metadata": {},
   "outputs": [],
   "source": []
  },
  {
   "cell_type": "code",
   "execution_count": null,
   "metadata": {},
   "outputs": [],
   "source": []
  },
  {
   "cell_type": "code",
   "execution_count": null,
   "metadata": {},
   "outputs": [],
   "source": []
  },
  {
   "cell_type": "markdown",
   "metadata": {},
   "source": [
    "2. Aproximar el área de la región descrita por\n",
    "\n",
    "$$x^2+2y^2\\leq-2x+8y-7$$\n",
    "\n",
    "Poner los resultados en una tabla cuyas filas correspondan a la cantidad de términos utilizados en la aproximación (usar 10, 100, 1000, 10000 y 100000 términos) y en las columnas el valor de aproximación y el error relativo.\n",
    "\n",
    "Definir unos límites adecuados $a_1$, $b_1$, $a_2$ y $b_2$, para la región $R=\\left[a_1,b_1\\right]\\times\\left[a_2,b_2\\right]$"
   ]
  },
  {
   "cell_type": "code",
   "execution_count": null,
   "metadata": {},
   "outputs": [],
   "source": []
  },
  {
   "cell_type": "code",
   "execution_count": null,
   "metadata": {},
   "outputs": [],
   "source": []
  },
  {
   "cell_type": "code",
   "execution_count": null,
   "metadata": {},
   "outputs": [],
   "source": []
  },
  {
   "cell_type": "markdown",
   "metadata": {},
   "source": [
    "3. Describe 3 casos de uso de integración Montecarlo en tu ingeniería."
   ]
  },
  {
   "cell_type": "markdown",
   "metadata": {},
   "source": []
  },
  {
   "cell_type": "markdown",
   "metadata": {},
   "source": []
  },
  {
   "cell_type": "markdown",
   "metadata": {},
   "source": []
  },
  {
   "cell_type": "markdown",
   "metadata": {},
   "source": [
    "### Referencias bibliográficas\n",
    "\n",
    "\n",
    "(Vu, 2018)\n",
    "\n",
    "resistantance factor calibration for deep foundation  monte carlo\n",
    "\n",
    "Thuy Vu, Erik Loehr, Douglas Smith,\n",
    "Probabilistic analysis and resistance factor calibration for deep foundation design using Monte Carlo simulation,\n",
    "Heliyon,\n",
    "Volume 4, Issue 8,\n",
    "2018,\n",
    "e00727,\n",
    "ISSN 2405-8440,\n",
    "https://doi.org/10.1016/j.heliyon.2018.e00727.\n",
    "(https://www.sciencedirect.com/science/article/pii/S2405844018308739)\n",
    "\n",
    "Abstract: The method of incorporating the sources of parameter uncertainty is crucial when conducting probabilistic analysis for service limit state (SLS) design of a deep foundation. This paper describes the method of using Monte Carlo simulation for probabilistic analyses and for calibration of resistance factors of drilled shafts at SLS. The paper presents discussions on the finding of an impossible case, where the different combinations of load, variability of soil strength and target probability of failure made it impossible to calibrate the SLS resistance factors. Resistance factors for drilled shafts in shale are introduced, and were found to be responsive to load levels. The higher load level, the lower the resistance factor. These findings help smooth the transition from allowable stress design to load and resistance factor design for geotechnical engineers.\n",
    "Keywords: Civil engineering\n"
   ]
  }
 ],
 "metadata": {
  "kernelspec": {
   "display_name": "Python 3 (ipykernel)",
   "language": "python",
   "name": "python3"
  },
  "language_info": {
   "codemirror_mode": {
    "name": "ipython",
    "version": 3
   },
   "file_extension": ".py",
   "mimetype": "text/x-python",
   "name": "python",
   "nbconvert_exporter": "python",
   "pygments_lexer": "ipython3",
   "version": "3.9.12"
  }
 },
 "nbformat": 4,
 "nbformat_minor": 2
}
